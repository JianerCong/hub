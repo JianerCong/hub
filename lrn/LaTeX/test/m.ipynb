{
 "cells": [
  {
   "cell_type": "code",
   "execution_count": 17,
   "metadata": {},
   "outputs": [],
   "source": [
    "import time\n",
    "from time import sleep\n",
    "from concurrent.futures import ThreadPoolExecutor\n",
    "\n",
    "\n",
    "def add_one():\n",
    "    return 1\n",
    "\n",
    "e = ThreadPoolExecutor(max_workers=2)\n",
    "a = e.submit(add_one)\n",
    "\n",
    "\n",
    "a\n",
    "\n",
    "a.done()\n",
    "\n",
    "a.result()\n",
    "\n",
    "def wait_for_one_sec():\n",
    "    sleep(60)\n",
    "    return 1\n",
    "\n",
    "a = e.submit(wait_for_one_sec)\n",
    "\n",
    "a.done()\n",
    "\n",
    "a\n",
    "\n",
    "a.result() #this will wait"
   ]
  },
  {
   "cell_type": "code",
   "execution_count": 41,
   "metadata": {},
   "outputs": [],
   "source": [
    "import random\n",
    "\n",
    "random.seed(123)"
   ]
  },
  {
   "cell_type": "code",
   "execution_count": 86,
   "metadata": {},
   "outputs": [
    {
     "data": {
      "text/plain": [
       "4.271638126041456"
      ]
     },
     "execution_count": 86,
     "metadata": {},
     "output_type": "execute_result"
    }
   ],
   "source": []
  },
  {
   "cell_type": "code",
   "execution_count": null,
   "metadata": {},
   "outputs": [],
   "source": []
  },
  {
   "cell_type": "code",
   "execution_count": 79,
   "metadata": {},
   "outputs": [],
   "source": [
    "random.randrange(0,10) # draw from 0,9\n",
    "\n",
    "random.randrange(0,10,2) #[0,2,...,8]\n",
    "\n",
    "random.randint(0,10) # = randrange(0,11)\n",
    "\n",
    "random.choice([1,2,3]) # pick one\n",
    "\n",
    "random.choices([1,2,3],k=5) # pick five\n",
    "\n",
    "l = [1,2,3]\n",
    "random.shuffle(l)\n",
    "\n",
    "l\n",
    "\n",
    "random.sample(['red', 'blue'], counts=[4, 2], k=5) # sample(['red', 'red', 'red', 'red', 'blue', 'blue'], k=5).\n",
    "\n"
   ]
  },
  {
   "cell_type": "code",
   "execution_count": 11,
   "metadata": {},
   "outputs": [
    {
     "name": "stdout",
     "output_type": "stream",
     "text": [
      "🐸 Comming in 3\n",
      "❄ 5\n",
      "After: 4\n",
      "❄ 4\n",
      "After: 3\n",
      "❄ 3\n",
      "🐸 Comming in 5\n",
      "After: 4\n",
      "❄ 4\n",
      "After: 3\n",
      "❄ 3\n",
      "After: 2\n",
      "❄ 2\n",
      "After: 1\n",
      "❄ 1\n",
      "After: 0\n",
      "❄ Trigger\n",
      "🐸 Triggered\n",
      "🐸 : bye\n"
     ]
    }
   ],
   "source": [
    "b"
   ]
  },
  {
   "cell_type": "code",
   "execution_count": 1,
   "metadata": {},
   "outputs": [],
   "source": [
    "import threading"
   ]
  },
  {
   "cell_type": "code",
   "execution_count": 2,
   "metadata": {},
   "outputs": [],
   "source": [
    "d = threading.local()\n",
    "d.x = 1"
   ]
  },
  {
   "cell_type": "code",
   "execution_count": 3,
   "metadata": {},
   "outputs": [
    {
     "data": {
      "text/plain": [
       "<_thread._local at 0x7f7ece4d9cb0>"
      ]
     },
     "execution_count": 3,
     "metadata": {},
     "output_type": "execute_result"
    }
   ],
   "source": [
    "d # thread-local data"
   ]
  },
  {
   "cell_type": "code",
   "execution_count": 4,
   "metadata": {},
   "outputs": [
    {
     "name": "stdout",
     "output_type": "stream",
     "text": [
      "1\n"
     ]
    }
   ],
   "source": [
    "from threading import Thread\n",
    "\n",
    "t = Thread(target=print,args=(1,))\n",
    "t.start()\n",
    "\n",
    "t.is_alive()\n",
    "\n",
    "t.ident"
   ]
  },
  {
   "cell_type": "code",
   "execution_count": 14,
   "metadata": {},
   "outputs": [
    {
     "name": "stdout",
     "output_type": "stream",
     "text": [
      "Trigger event\n",
      "f2 is here\n",
      "f1 is here\n"
     ]
    }
   ],
   "source": [
    "from threading import Thread\n",
    "from time import sleep\n",
    "from threading import Event\n",
    "e = Event()\n",
    "def f1():\n",
    "    e.wait()\n",
    "    print(f'f1 is here')\n",
    "\n",
    "def f2():\n",
    "    e.wait()\n",
    "    print(f'f2 is here')\n",
    "\n",
    "def g():\n",
    "    sleep(2)\n",
    "    print(f'Trigger event')\n",
    "    e.set()\n",
    "\n",
    "\n",
    "t = Thread(target=f1)\n",
    "t.start()\n",
    "\n",
    "t2 = Thread(target=f2)\n",
    "t2.start()\n",
    "\n",
    "t3 = Thread(target=g)\n",
    "t3.start()\n"
   ]
  },
  {
   "cell_type": "code",
   "execution_count": 13,
   "metadata": {},
   "outputs": [
    {
     "data": {
      "text/plain": [
       "False"
      ]
     },
     "execution_count": 13,
     "metadata": {},
     "output_type": "execute_result"
    }
   ],
   "source": [
    "e = Event()\n",
    "e.is_set()"
   ]
  },
  {
   "cell_type": "code",
   "execution_count": 22,
   "metadata": {},
   "outputs": [],
   "source": [
    "from threading import Timer\n",
    "def hi():\n",
    "    print('hi')\n",
    "    \n",
    "t = Timer(30,hi)\n"
   ]
  },
  {
   "cell_type": "code",
   "execution_count": 36,
   "metadata": {},
   "outputs": [
    {
     "data": {
      "text/plain": [
       "True"
      ]
     },
     "execution_count": 36,
     "metadata": {},
     "output_type": "execute_result"
    }
   ],
   "source": [
    "t.finished.is_set()"
   ]
  },
  {
   "cell_type": "code",
   "execution_count": 35,
   "metadata": {},
   "outputs": [
    {
     "data": {
      "text/plain": [
       "False"
      ]
     },
     "execution_count": 35,
     "metadata": {},
     "output_type": "execute_result"
    }
   ],
   "source": [
    "t.is_alive()"
   ]
  },
  {
   "cell_type": "code",
   "execution_count": 34,
   "metadata": {},
   "outputs": [],
   "source": [
    "t.cancel()"
   ]
  },
  {
   "cell_type": "code",
   "execution_count": 29,
   "metadata": {},
   "outputs": [],
   "source": [
    "t.start()"
   ]
  },
  {
   "cell_type": "code",
   "execution_count": null,
   "metadata": {},
   "outputs": [],
   "source": []
  }
 ],
 "metadata": {
  "kernelspec": {
   "display_name": "Python 3 (ipykernel)",
   "language": "python",
   "name": "python3"
  },
  "language_info": {
   "codemirror_mode": {
    "name": "ipython",
    "version": 3
   },
   "file_extension": ".py",
   "mimetype": "text/x-python",
   "name": "python",
   "nbconvert_exporter": "python",
   "pygments_lexer": "ipython3",
   "version": "3.10.6"
  }
 },
 "nbformat": 4,
 "nbformat_minor": 4
}
