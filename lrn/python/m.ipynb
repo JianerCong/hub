{
 "cells": [
  {
   "cell_type": "code",
   "execution_count": 1,
   "metadata": {},
   "outputs": [
    {
     "ename": "ModuleNotFoundError",
     "evalue": "No module named 'zope'",
     "output_type": "error",
     "traceback": [
      "\u001b[1;31m---------------------------------------------------------------------------\u001b[0m",
      "\u001b[1;31mModuleNotFoundError\u001b[0m                       Traceback (most recent call last)",
      "Cell \u001b[1;32mIn[1], line 1\u001b[0m\n\u001b[1;32m----> 1\u001b[0m \u001b[38;5;28;01mimport\u001b[39;00m \u001b[38;5;21;01mzope\u001b[39;00m\u001b[38;5;21;01m.\u001b[39;00m\u001b[38;5;21;01minterface\u001b[39;00m\n\u001b[0;32m      4\u001b[0m \u001b[38;5;28;01mclass\u001b[39;00m \u001b[38;5;21;01mMyInterface\u001b[39;00m(zope\u001b[38;5;241m.\u001b[39minterface\u001b[38;5;241m.\u001b[39mInterface):\n\u001b[0;32m      5\u001b[0m     x \u001b[38;5;241m=\u001b[39m zope\u001b[38;5;241m.\u001b[39minterface\u001b[38;5;241m.\u001b[39mAttribute(\u001b[38;5;124m\"\u001b[39m\u001b[38;5;124mfoo\u001b[39m\u001b[38;5;124m\"\u001b[39m)\n",
      "\u001b[1;31mModuleNotFoundError\u001b[0m: No module named 'zope'"
     ]
    }
   ],
   "source": [
    "\n",
    "import zope.interface\n",
    "  \n",
    "  \n",
    "class MyInterface(zope.interface.Interface):\n",
    "    x = zope.interface.Attribute(\"foo\")\n",
    "    def method1(self, x):\n",
    "        pass\n",
    "    def method2(self):\n",
    "        pass\n",
    "  \n",
    "@zope.interface.implementer(MyInterface)\n",
    "class MyClass:\n",
    "    def method1(self, x):\n",
    "        return x**2\n",
    "    def method2(self):\n",
    "        return \"foo\""
   ]
  }
 ],
 "metadata": {
  "kernelspec": {
   "display_name": "Python 3 (ipykernel)",
   "language": "python",
   "name": "python3"
  },
  "language_info": {
   "codemirror_mode": {
    "name": "ipython",
    "version": 3
   },
   "file_extension": ".py",
   "mimetype": "text/x-python",
   "name": "python",
   "nbconvert_exporter": "python",
   "pygments_lexer": "ipython3",
   "version": "3.11.4"
  }
 },
 "nbformat": 4,
 "nbformat_minor": 4
}
