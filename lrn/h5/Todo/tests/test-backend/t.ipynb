{
 "cells": [
  {
   "cell_type": "code",
   "execution_count": 1,
   "id": "fbe3fa89",
   "metadata": {},
   "outputs": [],
   "source": [
    "import requests #pip install requests\n",
    "import json"
   ]
  },
  {
   "cell_type": "code",
   "execution_count": 2,
   "id": "02285ea5",
   "metadata": {},
   "outputs": [],
   "source": [
    "url = 'http://localhost:9001/todos'"
   ]
  },
  {
   "cell_type": "code",
   "execution_count": 3,
   "id": "b46be984",
   "metadata": {},
   "outputs": [
    {
     "data": {
      "text/plain": [
       "'{\"unam\": \"aaa\", \"todos\": [{\"name\": \"a1\"}, {\"name\": \"a2\", \"done\": true}]}'"
      ]
     },
     "execution_count": 3,
     "metadata": {},
     "output_type": "execute_result"
    }
   ],
   "source": [
    "# postmany\n",
    "a={'unam':'aaa', 'todos':[{'name':'a1'}, {'name':'a2', 'done':True}]}\n",
    "json.dumps(a)\n",
    "\n",
    "x = requests.post(url+'/postmany', json = a)\n",
    "print(x.text)"
   ]
  },
  {
   "cell_type": "code",
   "execution_count": 9,
   "id": "7102c9db",
   "metadata": {},
   "outputs": [
    {
     "name": "stdout",
     "output_type": "stream",
     "text": [
      "{\"name\":\"a1\",\"done\":false,\"unam\":\"aaa\",\"_id\":\"6303982b1062659873f90f19\",\"__v\":0}\n",
      "{\"name\":\"a2\",\"done\":false,\"unam\":\"aaa\",\"_id\":\"6303982b1062659873f90f1b\",\"__v\":0}\n"
     ]
    }
   ],
   "source": [
    "x = requests.post(url, json = {'name':'a1', 'unam':'aaa'})\n",
    "x2 = requests.post(url, json = {'name':'a2', 'unam': 'aaa'})\n",
    "\n",
    "print(x.text)\n",
    "print(x2.text)"
   ]
  },
  {
   "cell_type": "code",
   "execution_count": 10,
   "id": "8fefcabe",
   "metadata": {},
   "outputs": [],
   "source": [
    "x = requests.post(url, json = {'name':'b1', 'unam':'bbb'})\n",
    "x2 = requests.post(url, json = {'name':'b2', 'unam': 'bbb'})"
   ]
  },
  {
   "cell_type": "code",
   "execution_count": 11,
   "id": "752afc1c",
   "metadata": {},
   "outputs": [
    {
     "data": {
      "text/plain": [
       "[{'_id': '6303982b1062659873f90f19',\n",
       "  'name': 'a1',\n",
       "  'done': False,\n",
       "  'unam': 'aaa',\n",
       "  '__v': 0},\n",
       " {'_id': '6303982b1062659873f90f1b',\n",
       "  'name': 'a2',\n",
       "  'done': False,\n",
       "  'unam': 'aaa',\n",
       "  '__v': 0}]"
      ]
     },
     "execution_count": 11,
     "metadata": {},
     "output_type": "execute_result"
    }
   ],
   "source": [
    "# get aaa's todos\n",
    "y=requests.get(url,json={'unam':'aaa'})\n",
    "todos = json.loads(y.content)\n",
    "todos"
   ]
  },
  {
   "cell_type": "code",
   "execution_count": 8,
   "id": "361a93f6",
   "metadata": {},
   "outputs": [
    {
     "data": {
      "text/plain": [
       "<Response [200]>"
      ]
     },
     "execution_count": 8,
     "metadata": {},
     "output_type": "execute_result"
    }
   ],
   "source": [
    "# Delete all todos\n",
    "result = requests.delete(url)\n",
    "result"
   ]
  },
  {
   "cell_type": "code",
   "execution_count": null,
   "id": "e86a1a5b",
   "metadata": {},
   "outputs": [],
   "source": [
    "# delete bbb's todos\n",
    "result = requests.delete(url, json={'unam': 'bbb'})\n",
    "result"
   ]
  }
 ],
 "metadata": {
  "kernelspec": {
   "display_name": "Python 3 (ipykernel)",
   "language": "python",
   "name": "python3"
  },
  "language_info": {
   "codemirror_mode": {
    "name": "ipython",
    "version": 3
   },
   "file_extension": ".py",
   "mimetype": "text/x-python",
   "name": "python",
   "nbconvert_exporter": "python",
   "pygments_lexer": "ipython3",
   "version": "3.10.4"
  },
  "vscode": {
   "interpreter": {
    "hash": "916dbcbb3f70747c44a77c7bcd40155683ae19c65e1c03b4aa3499c5328201f1"
   }
  }
 },
 "nbformat": 4,
 "nbformat_minor": 5
}
